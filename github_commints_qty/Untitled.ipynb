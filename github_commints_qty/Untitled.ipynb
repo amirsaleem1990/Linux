{
 "cells": [
  {
   "cell_type": "code",
   "execution_count": 227,
   "metadata": {},
   "outputs": [
    {
     "data": {
      "text/plain": [
       "0    1.576082e+09\n",
       "1    1.576082e+09\n",
       "2    1.576081e+09\n",
       "3    1.576081e+09\n",
       "4    1.576077e+09\n",
       "dtype: float64"
      ]
     },
     "execution_count": 227,
     "metadata": {},
     "output_type": "execute_result"
    }
   ],
   "source": [
    "import os\n",
    "import pandas as pd\n",
    "import datetime\n",
    "hist = list(os.popen(\"git log\"))\n",
    "hist = [i.strip().replace(\"Date:   \", \"\").replace(\" +0500\", \"\").replace(\" -0400\", \"\")[4:] \n",
    "        for i in hist if i.startswith(\"Date\")]\n",
    "dates = pd.to_datetime(pd.Series(hist)).astype(int) / 10**9\n",
    "dates.head()"
   ]
  },
  {
   "cell_type": "code",
   "execution_count": 207,
   "metadata": {},
   "outputs": [],
   "source": [
    "from datetime import datetime\n",
    "# n = datetime.now()\n",
    "# current_date_time  = pd.to_datetime(\"-\".join([str(i) for i in [n.year, n.month, n.day]]))\n",
    "current_date_time = pd.Series(datetime.now())#.dt.date"
   ]
  },
  {
   "cell_type": "code",
   "execution_count": 218,
   "metadata": {},
   "outputs": [],
   "source": [
    "df = pd.DataFrame(dates)\n",
    "df['diff'] = [current_date_time - i  for i in dates]\n",
    "# df\n",
    "seconds_in_one_day = 60*60*24\n"
   ]
  },
  {
   "cell_type": "code",
   "execution_count": 217,
   "metadata": {},
   "outputs": [
    {
     "data": {
      "text/plain": [
       "array([4585080803000], dtype='timedelta64[ns]')"
      ]
     },
     "execution_count": 217,
     "metadata": {},
     "output_type": "execute_result"
    }
   ],
   "source": [
    "[(current_date_time - i)  for i in dates][1].values"
   ]
  },
  {
   "cell_type": "code",
   "execution_count": 228,
   "metadata": {},
   "outputs": [
    {
     "data": {
      "text/plain": [
       "0    1.576081e+09\n",
       "dtype: float64"
      ]
     },
     "execution_count": 228,
     "metadata": {},
     "output_type": "execute_result"
    }
   ],
   "source": [
    "current_date_time.astype(int) / 10**9"
   ]
  },
  {
   "cell_type": "code",
   "execution_count": 229,
   "metadata": {},
   "outputs": [
    {
     "data": {
      "text/plain": [
       "86400"
      ]
     },
     "execution_count": 229,
     "metadata": {},
     "output_type": "execute_result"
    }
   ],
   "source": []
  },
  {
   "cell_type": "code",
   "execution_count": null,
   "metadata": {},
   "outputs": [],
   "source": []
  }
 ],
 "metadata": {
  "kernelspec": {
   "display_name": "Python 3",
   "language": "python",
   "name": "python3"
  },
  "language_info": {
   "codemirror_mode": {
    "name": "ipython",
    "version": 3
   },
   "file_extension": ".py",
   "mimetype": "text/x-python",
   "name": "python",
   "nbconvert_exporter": "python",
   "pygments_lexer": "ipython3",
   "version": "3.6.9"
  }
 },
 "nbformat": 4,
 "nbformat_minor": 4
}
