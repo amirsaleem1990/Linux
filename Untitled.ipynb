{
 "cells": [
  {
   "cell_type": "code",
   "execution_count": 14,
   "metadata": {},
   "outputs": [],
   "source": [
    "import os\n",
    "import pandas as pd\n",
    "hist = list(os.popen(\"git log\"))\n",
    "hist = [i.strip() for i in hist if not i == \"\\n\" if not i.startswith(\"Author\")]"
   ]
  },
  {
   "cell_type": "code",
   "execution_count": 25,
   "metadata": {},
   "outputs": [
    {
     "data": {
      "text/plain": [
       "{'<gopen> same as <gio open>',\n",
       " '<locate> is more faster than <find>',\n",
       " 'Date:   Mon Jun 17 00:51:15 2019 +0500',\n",
       " 'Date:   Thu Feb 7 10:46:42 2019 +0500',\n",
       " 'Update alias.txt',\n",
       " 'Update set_startupscript.py',\n",
       " 'added',\n",
       " 'an error occur when i pushed my local repo to master,',\n",
       " 'automatic commit and push',\n",
       " 'avoid permission denied massages in output of find',\n",
       " 'battery status',\n",
       " 'commit 01622c3441efbb7687cc7dfed4d92278d2ad38af',\n",
       " 'commit 10e5f9dc4824e8c86597e7765dd134c92066eeb3',\n",
       " 'commit 16ed4203a063457827d21ede9c77652f357ce849',\n",
       " 'commit 17ad2acdcedcb720207d8300364ff9a0fdd1fd0c',\n",
       " 'commit 267bf70f221af20ae703a252b65fe263520c4cad',\n",
       " 'commit 27d8c534d82e56dec7af18e1985108234e5b9759',\n",
       " 'commit 35dee7e116405bbcd84d0bcded184df6c826e690',\n",
       " 'commit 472d1bba3319187806b0f60e5b0590d754d85734',\n",
       " 'commit 48081852114d7007c18d2b457a3d63b2dde0a906',\n",
       " 'commit 480b232d1f9acd83831cb2938c8fcc491df3c141',\n",
       " 'commit 4bd76478ebeea7c9439ba24521c0751b538b5b1c',\n",
       " 'commit 50ba218489b5af576520481e826c130f653a87d3',\n",
       " 'commit 5787231bf99e6e6377faee87b13a59300e1fa098',\n",
       " 'commit 675c4c5fba3beba4cbeb5415b970cb0a08eeacd4',\n",
       " 'commit 6a86f7ca0e73f795a0217cc4bb82dd7d173256be',\n",
       " 'commit 7aeccbb9d91ea3713ad39ee075b00e2c2d79e1e2',\n",
       " 'commit 7c5f0139e1b76f7a95333020d1722f0387c7bb1f',\n",
       " 'commit 8047cd08c1a4742eb1a5dd07fde439d76fafbfe3',\n",
       " 'commit 8a480bba610ecafa34e014d16f9dc07aa61069e5',\n",
       " 'commit 8a74de3576e6e39ce1966b7c3aa4060ce4111a72',\n",
       " 'commit 8fa60e3aa73f9f9cd7197d454b709eb92873405a',\n",
       " 'commit 9091f5002b1dd30c67669ee4875708037d9a6b22',\n",
       " 'commit 9d5260826d935bf6d5ed015e787d0c27b978811e',\n",
       " 'commit 9de27759dbeb78eec4e2b3f23a98a51695266651',\n",
       " 'commit ac9294a602ca5333072fed83074efa9600cc8e4e',\n",
       " 'commit adace8157e922877a39ec099a020f89326e43819',\n",
       " 'commit b1daf71db8fee87fb74b78469014a8b062aca63b',\n",
       " 'commit ba6b9f45f9ee2b058246278536fba8299c0a0fa5',\n",
       " 'commit bec6e0ae16b135e22b79c6a7c25e038f09907992',\n",
       " 'commit c29a00f7ab73c552b9531f6a83f4f7798475b216',\n",
       " 'commit c9daf8503d1d9dbf18d00f9bb3c28975fe562349',\n",
       " 'commit d5bb0f164a1c2640206bf928cbfc52fa12246528',\n",
       " 'commit d822b7053f696c1f48934dba5be95a5ef85390d2',\n",
       " 'commit d8d7cfc325a80d620556d14deb1de971fb7e8ea1',\n",
       " 'commit d9cec4f7107ebafbb98a9d954f9f2a89ed83101c',\n",
       " 'commit dec85f57aa1d7c448913676de0e77ff0139a7da7',\n",
       " 'commit e1b58fb43774be75738611989d953afbdb3d3c54',\n",
       " 'commit e578cdcdd529a95965e175cf1c6c9084124ae750',\n",
       " 'commit eb50e239ea63b8e9a57804ef5760442d16490423',\n",
       " 'commit ed61a62265cb6220bdef1632d2e292419d506212',\n",
       " 'commit ef8e42c57fb39e36b22d270d841539332b29ecf4',\n",
       " 'commit f1def8301200c776ee0e5a45df5526a445e92bbb',\n",
       " 'connect to another saved wifi',\n",
       " 'connect to unknown wifi',\n",
       " 'convert all .ipynb file to .py files',\n",
       " 'correction',\n",
       " 'current date',\n",
       " 'deleted',\n",
       " 'find ignore case',\n",
       " 'google search keyword',\n",
       " 'grep options',\n",
       " 'grep with multiple lines reults',\n",
       " 'many changes',\n",
       " 'mute audio in specific time',\n",
       " 'new',\n",
       " 'onother way to turn on and off wifi',\n",
       " 'open multiple links in firefox saved in .txt file',\n",
       " 'remove all files or folers that contains specific chars',\n",
       " 'renamed',\n",
       " 'search in pdf file',\n",
       " 'setting',\n",
       " 'system monitor',\n",
       " 'update',\n",
       " 'updated',\n",
       " 'while loop'}"
      ]
     },
     "execution_count": 25,
     "metadata": {},
     "output_type": "execute_result"
    }
   ],
   "source": [
    "set([hist[i] for i in range(2, len(hist), 3)])"
   ]
  },
  {
   "cell_type": "code",
   "execution_count": null,
   "metadata": {},
   "outputs": [],
   "source": []
  }
 ],
 "metadata": {
  "kernelspec": {
   "display_name": "Python 3",
   "language": "python",
   "name": "python3"
  },
  "language_info": {
   "codemirror_mode": {
    "name": "ipython",
    "version": 3
   },
   "file_extension": ".py",
   "mimetype": "text/x-python",
   "name": "python",
   "nbconvert_exporter": "python",
   "pygments_lexer": "ipython3",
   "version": "3.6.9"
  }
 },
 "nbformat": 4,
 "nbformat_minor": 4
}
