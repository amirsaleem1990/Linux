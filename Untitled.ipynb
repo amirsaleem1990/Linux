{
 "cells": [
  {
   "cell_type": "code",
   "execution_count": 177,
   "metadata": {},
   "outputs": [
    {
     "data": {
      "text/plain": [
       "0   2019-12-11 15:07:08\n",
       "1   2019-12-11 15:05:01\n",
       "2   2019-12-11 15:02:57\n",
       "3   2019-12-11 15:01:18\n",
       "4   2019-12-11 14:59:11\n",
       "dtype: datetime64[ns]"
      ]
     },
     "execution_count": 177,
     "metadata": {},
     "output_type": "execute_result"
    }
   ],
   "source": [
    "import os\n",
    "import pandas as pd\n",
    "import datetime\n",
    "hist = list(os.popen(\"git log\"))\n",
    "hist = [i.strip().replace(\"Date:   \", \"\").replace(\" +0500\", \"\").replace(\" -0400\", \"\")[4:] \n",
    "        for i in hist if i.startswith(\"Date\")]\n",
    "dates = pd.to_datetime(pd.Series(hist))#.dt.date\n",
    "dates.head()"
   ]
  },
  {
   "cell_type": "code",
   "execution_count": 178,
   "metadata": {},
   "outputs": [
    {
     "data": {
      "text/plain": [
       "0    2019-12-11\n",
       "dtype: object"
      ]
     },
     "execution_count": 178,
     "metadata": {},
     "output_type": "execute_result"
    }
   ],
   "source": [
    "from datetime import datetime\n",
    "n = datetime.now()\n",
    "current_date_time  = pd.to_datetime(\"-\".join([str(i) for i in [n.year, n.month, n.day]]))\n",
    "current_date_time = pd.Series(current_date_time).dt.date\n",
    "current_date_time"
   ]
  },
  {
   "cell_type": "code",
   "execution_count": 168,
   "metadata": {},
   "outputs": [
    {
     "data": {
      "text/plain": [
       "0    2019-12-11\n",
       "dtype: object"
      ]
     },
     "execution_count": 168,
     "metadata": {},
     "output_type": "execute_result"
    }
   ],
   "source": [
    "current_date_time"
   ]
  },
  {
   "cell_type": "code",
   "execution_count": 165,
   "metadata": {},
   "outputs": [
    {
     "data": {
      "text/plain": [
       "Timestamp('2019-12-11 00:00:00')"
      ]
     },
     "execution_count": 165,
     "metadata": {},
     "output_type": "execute_result"
    }
   ],
   "source": [
    "current_date_time"
   ]
  },
  {
   "cell_type": "code",
   "execution_count": 176,
   "metadata": {},
   "outputs": [
    {
     "data": {
      "text/plain": [
       "0     2019-12-11 15:07:08\n",
       "1     2019-12-11 15:05:01\n",
       "2     2019-12-11 15:02:57\n",
       "3     2019-12-11 15:01:18\n",
       "4     2019-12-11 14:59:11\n",
       "              ...        \n",
       "474   2018-12-18 14:40:21\n",
       "475   2018-12-17 21:06:28\n",
       "476   2018-12-14 17:04:15\n",
       "477   2018-12-14 16:34:07\n",
       "478   2018-12-14 16:32:47\n",
       "Length: 479, dtype: datetime64[ns]"
      ]
     },
     "execution_count": 176,
     "metadata": {},
     "output_type": "execute_result"
    }
   ],
   "source": []
  },
  {
   "cell_type": "code",
   "execution_count": null,
   "metadata": {},
   "outputs": [],
   "source": []
  }
 ],
 "metadata": {
  "kernelspec": {
   "display_name": "Python 3",
   "language": "python",
   "name": "python3"
  },
  "language_info": {
   "codemirror_mode": {
    "name": "ipython",
    "version": 3
   },
   "file_extension": ".py",
   "mimetype": "text/x-python",
   "name": "python",
   "nbconvert_exporter": "python",
   "pygments_lexer": "ipython3",
   "version": "3.6.9"
  }
 },
 "nbformat": 4,
 "nbformat_minor": 4
}
