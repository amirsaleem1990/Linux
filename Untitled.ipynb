{
 "cells": [
  {
   "cell_type": "code",
   "execution_count": 177,
   "metadata": {},
   "outputs": [
    {
     "data": {
      "text/plain": [
       "0   2019-12-11 15:07:08\n",
       "1   2019-12-11 15:05:01\n",
       "2   2019-12-11 15:02:57\n",
       "3   2019-12-11 15:01:18\n",
       "4   2019-12-11 14:59:11\n",
       "dtype: datetime64[ns]"
      ]
     },
     "execution_count": 177,
     "metadata": {},
     "output_type": "execute_result"
    }
   ],
   "source": [
    "import os\n",
    "import pandas as pd\n",
    "import datetime\n",
    "hist = list(os.popen(\"git log\"))\n",
    "hist = [i.strip().replace(\"Date:   \", \"\").replace(\" +0500\", \"\").replace(\" -0400\", \"\")[4:] \n",
    "        for i in hist if i.startswith(\"Date\")]\n",
    "dates = pd.to_datetime(pd.Series(hist))#.dt.date\n",
    "dates.head()"
   ]
  },
  {
   "cell_type": "code",
   "execution_count": 207,
   "metadata": {},
   "outputs": [],
   "source": [
    "from datetime import datetime\n",
    "# n = datetime.now()\n",
    "# current_date_time  = pd.to_datetime(\"-\".join([str(i) for i in [n.year, n.month, n.day]]))\n",
    "current_date_time = pd.Series(datetime.now())#.dt.date"
   ]
  },
  {
   "cell_type": "code",
   "execution_count": 209,
   "metadata": {},
   "outputs": [
    {
     "data": {
      "text/html": [
       "<div>\n",
       "<style scoped>\n",
       "    .dataframe tbody tr th:only-of-type {\n",
       "        vertical-align: middle;\n",
       "    }\n",
       "\n",
       "    .dataframe tbody tr th {\n",
       "        vertical-align: top;\n",
       "    }\n",
       "\n",
       "    .dataframe thead th {\n",
       "        text-align: right;\n",
       "    }\n",
       "</style>\n",
       "<table border=\"1\" class=\"dataframe\">\n",
       "  <thead>\n",
       "    <tr style=\"text-align: right;\">\n",
       "      <th></th>\n",
       "      <th>0</th>\n",
       "      <th>diff</th>\n",
       "    </tr>\n",
       "  </thead>\n",
       "  <tbody>\n",
       "    <tr>\n",
       "      <th>0</th>\n",
       "      <td>2019-12-11 15:07:08</td>\n",
       "      <td>0   01:14:18.080803\n",
       "dtype: timedelta64[ns]</td>\n",
       "    </tr>\n",
       "    <tr>\n",
       "      <th>1</th>\n",
       "      <td>2019-12-11 15:05:01</td>\n",
       "      <td>0   01:16:25.080803\n",
       "dtype: timedelta64[ns]</td>\n",
       "    </tr>\n",
       "    <tr>\n",
       "      <th>2</th>\n",
       "      <td>2019-12-11 15:02:57</td>\n",
       "      <td>0   01:18:29.080803\n",
       "dtype: timedelta64[ns]</td>\n",
       "    </tr>\n",
       "    <tr>\n",
       "      <th>3</th>\n",
       "      <td>2019-12-11 15:01:18</td>\n",
       "      <td>0   01:20:08.080803\n",
       "dtype: timedelta64[ns]</td>\n",
       "    </tr>\n",
       "    <tr>\n",
       "      <th>4</th>\n",
       "      <td>2019-12-11 14:59:11</td>\n",
       "      <td>0   01:22:15.080803\n",
       "dtype: timedelta64[ns]</td>\n",
       "    </tr>\n",
       "    <tr>\n",
       "      <th>...</th>\n",
       "      <td>...</td>\n",
       "      <td>...</td>\n",
       "    </tr>\n",
       "    <tr>\n",
       "      <th>474</th>\n",
       "      <td>2018-12-18 14:40:21</td>\n",
       "      <td>0   358 days 01:41:05.080803\n",
       "dtype: timedelta6...</td>\n",
       "    </tr>\n",
       "    <tr>\n",
       "      <th>475</th>\n",
       "      <td>2018-12-17 21:06:28</td>\n",
       "      <td>0   358 days 19:14:58.080803\n",
       "dtype: timedelta6...</td>\n",
       "    </tr>\n",
       "    <tr>\n",
       "      <th>476</th>\n",
       "      <td>2018-12-14 17:04:15</td>\n",
       "      <td>0   361 days 23:17:11.080803\n",
       "dtype: timedelta6...</td>\n",
       "    </tr>\n",
       "    <tr>\n",
       "      <th>477</th>\n",
       "      <td>2018-12-14 16:34:07</td>\n",
       "      <td>0   361 days 23:47:19.080803\n",
       "dtype: timedelta6...</td>\n",
       "    </tr>\n",
       "    <tr>\n",
       "      <th>478</th>\n",
       "      <td>2018-12-14 16:32:47</td>\n",
       "      <td>0   361 days 23:48:39.080803\n",
       "dtype: timedelta6...</td>\n",
       "    </tr>\n",
       "  </tbody>\n",
       "</table>\n",
       "<p>479 rows × 2 columns</p>\n",
       "</div>"
      ],
      "text/plain": [
       "                      0                                               diff\n",
       "0   2019-12-11 15:07:08         0   01:14:18.080803\n",
       "dtype: timedelta64[ns]\n",
       "1   2019-12-11 15:05:01         0   01:16:25.080803\n",
       "dtype: timedelta64[ns]\n",
       "2   2019-12-11 15:02:57         0   01:18:29.080803\n",
       "dtype: timedelta64[ns]\n",
       "3   2019-12-11 15:01:18         0   01:20:08.080803\n",
       "dtype: timedelta64[ns]\n",
       "4   2019-12-11 14:59:11         0   01:22:15.080803\n",
       "dtype: timedelta64[ns]\n",
       "..                  ...                                                ...\n",
       "474 2018-12-18 14:40:21  0   358 days 01:41:05.080803\n",
       "dtype: timedelta6...\n",
       "475 2018-12-17 21:06:28  0   358 days 19:14:58.080803\n",
       "dtype: timedelta6...\n",
       "476 2018-12-14 17:04:15  0   361 days 23:17:11.080803\n",
       "dtype: timedelta6...\n",
       "477 2018-12-14 16:34:07  0   361 days 23:47:19.080803\n",
       "dtype: timedelta6...\n",
       "478 2018-12-14 16:32:47  0   361 days 23:48:39.080803\n",
       "dtype: timedelta6...\n",
       "\n",
       "[479 rows x 2 columns]"
      ]
     },
     "execution_count": 209,
     "metadata": {},
     "output_type": "execute_result"
    }
   ],
   "source": [
    "df = pd.DataFrame(dates)\n",
    "df['diff'] = [current_date_time - i  for i in dates]\n",
    "df"
   ]
  },
  {
   "cell_type": "code",
   "execution_count": 217,
   "metadata": {},
   "outputs": [
    {
     "data": {
      "text/plain": [
       "array([4585080803000], dtype='timedelta64[ns]')"
      ]
     },
     "execution_count": 217,
     "metadata": {},
     "output_type": "execute_result"
    }
   ],
   "source": [
    "[(current_date_time - i)  for i in dates][1].values"
   ]
  },
  {
   "cell_type": "code",
   "execution_count": null,
   "metadata": {},
   "outputs": [],
   "source": []
  }
 ],
 "metadata": {
  "kernelspec": {
   "display_name": "Python 3",
   "language": "python",
   "name": "python3"
  },
  "language_info": {
   "codemirror_mode": {
    "name": "ipython",
    "version": 3
   },
   "file_extension": ".py",
   "mimetype": "text/x-python",
   "name": "python",
   "nbconvert_exporter": "python",
   "pygments_lexer": "ipython3",
   "version": "3.6.9"
  }
 },
 "nbformat": 4,
 "nbformat_minor": 4
}
